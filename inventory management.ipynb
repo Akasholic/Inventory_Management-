{
  "nbformat": 4,
  "nbformat_minor": 0,
  "metadata": {
    "colab": {
      "name": "inventory.ipynb",
      "provenance": [],
      "collapsed_sections": []
    },
    "kernelspec": {
      "name": "python3",
      "display_name": "Python 3"
    },
    "language_info": {
      "name": "python"
    }
  },
  "cells": [
    {
      "cell_type": "code",
      "metadata": {
        "colab": {
          "base_uri": "https://localhost:8080/"
        },
        "id": "AYZbSPkkyUwZ",
        "outputId": "549f44ea-aecd-4bd1-c38c-ec7cdb942b3b"
      },
      "source": [
        "import json\n",
        "import time\n",
        "all_items = {1001:{\"name\":\"KitKat\",\"qty\":20,\"price\":5},1002:{\"name\":\"Fizz\",\"qty\":40,\"price\":15},1003:{\"name\":\"Maaza\",\"qty\":90,\"price\":40},1004:{\"name\":\"Candy\",\"qty\":70,\"price\":2}\n",
        "             ,1005:{\"name\":\"Spirit\",\"qty\":30,\"price\":28},1006:{\"name\":\"Coca-cola\",\"qty\":70,\"price\":25}\n",
        "             ,1007:{\"name\":\"Fanta\",\"qty\":77,\"price\":26},1008:{\"name\":\"Amul\",\"qty\":45,\"price\":18}\n",
        "             ,1009:{\"name\":\"Pepsi\",\"qty\":60,\"price\":44},1010:{\"name\":\"Dairy Milk\",\"qty\":75,\"price\":20}\n",
        "             ,1011:{\"name\":\"Munch\",\"qty\":10,\"price\":10},1012:{\"name\":\"Perk\",\"qty\":90,\"price\":5}\n",
        "             ,1013:{\"name\":\"Eclairs\",\"qty\":150,\"price\":2},1014:{\"name\":\"Mango Sip\",\"qty\":40,\"price\":40}\n",
        "             ,1015:{\"name\":\"Slice\",\"qty\":30,\"price\":35},1016:{\"name\":\"Mountain Dew\",\"qty\":100,\"price\":24}\n",
        "             ,1017:{\"name\":\"Nestle\",\"qty\":55,\"price\":27},1018:{\"name\":\"Snickers\",\"qty\":100,\"price\":10}\n",
        "             ,1019:{\"name\":\"Mars\",\"qty\":50,\"price\":15},1020:{\"name\":\"Bounty\",\"qty\":20,\"price\":10}\n",
        "             ,1021:{\"name\":\"Safari\",\"qty\":67,\"price\":10},1022:{\"name\":\"Lotte Chocco Pie\",\"qty\":40,\"price\":10}\n",
        "             ,1023:{\"name\":\"Thums Up\",\"qty\":50,\"price\":24},1024:{\"name\":\"Limca\",\"qty\":30,\"price\":28}\n",
        "             ,1025:{\"name\":\"7up\",\"qty\":10,\"price\":23},1026:{\"name\":\"Mirinda\",\"qty\":20,\"price\":22}\n",
        "             ,1027:{\"name\":\"Frooti\",\"qty\":30,\"price\":15},1028:{\"name\":\"Melody\",\"qty\":100,\"price\":2}\n",
        "             ,1029:{\"name\":\"Pulse\",\"qty\":80,\"price\":1},1030:{\"name\":\"Gems\",\"qty\":110,\"price\":10}}\n",
        "\n",
        "\n",
        "\n",
        "#to save the above record in json file\n",
        "fd = open(\"record.json\",\"w\")\n",
        "js= json.dumps(all_items)\n",
        "\n",
        "fd.write(js)\n",
        "fd.close()\n",
        "\n",
        "#Now reading the json file so we can perform operation on data\n",
        "fp = open(\"record.json\",\"r\")\n",
        "items = fp.read()\n",
        "fp.close()\n",
        "\n",
        "updated_items = json.loads(items)\n",
        "\n",
        "#item to be buyed and the quantity to be buyed\n",
        "item_id = input(\"Enter the Item id: \")\n",
        "quantity =  input(\"Enter the quantity: \")\n",
        "\n",
        "#selecting the item_id so we can perform operation like decreasing the quantity availability of items \n",
        "#logic, In case item to be purchased is less than the requirements or out of stock\n",
        "\n",
        "\n",
        "if(updated_items[item_id][\"qty\"]> int(quantity)):\n",
        "  for i in updated_items:\n",
        "  \n",
        "    if(i==item_id):\n",
        "      updated_items[i][\"qty\"] = updated_items[i][\"qty\"]-int(quantity)\n",
        "else:\n",
        "  if(updated_items[item_id][\"qty\"]==0):\n",
        "    print(\"Out of Stock\")\n",
        "  else:\n",
        "    print(\"Item quantity is less than customer requirement. Remaining Stock: \",updated_items[item_id][\"qty\"])\n",
        "\n",
        "\n",
        "#Billing for purchased item\n",
        "print(\"_________________________________________________________________________________\")\n",
        "print(time.ctime())\n",
        "print(\"Item Purchased: \",updated_items[item_id][\"name\"])\n",
        "print(\"Price : \",updated_items[item_id][\"price\"])\n",
        "print(\"Purchased Quantity: \", int(quantity))\n",
        "print(\"_________________________________________________________________________________\")\n",
        "print(\"Grand Total:\" ,updated_items[item_id][\"price\"] * int(quantity))\n",
        "\n",
        "#Maintaing another JSON file which hold----- sold items ,grand total, time of purchasing  \n",
        "sold_items = {item_id: {\"name\":updated_items[item_id][\"name\"],\"price\":updated_items[item_id][\"price\"],\"qty\": int(quantity),\"grand_total\":updated_items[item_id][\"price\"] * int(quantity)},\"time\":time.ctime()\n",
        "    } \n",
        "si= json.dumps(sold_items)\n",
        "fd = open(\"sales.json\",\"a\")\n",
        "fd.write(si)\n",
        "fd.close()\n",
        "\n"
      ],
      "execution_count": 93,
      "outputs": [
        {
          "output_type": "stream",
          "name": "stdout",
          "text": [
            "Enter the Item id: 1009\n",
            "Enter the quantity: 4\n",
            "_________________________________________________________________________________\n",
            "Tue Aug 31 18:41:40 2021\n",
            "Item Purchased:  Pepsi\n",
            "Price :  44\n",
            "Purchased Quantity:  4\n",
            "_________________________________________________________________________________\n",
            "Grand Total: 176\n"
          ]
        }
      ]
    }
  ]
}